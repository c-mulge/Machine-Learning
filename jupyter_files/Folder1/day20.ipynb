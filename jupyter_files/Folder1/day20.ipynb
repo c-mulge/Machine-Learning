{
 "cells": [
  {
   "cell_type": "code",
   "execution_count": 2,
   "id": "49dbcb5c-002c-4ff6-a122-5f70a23ca540",
   "metadata": {},
   "outputs": [],
   "source": [
    "import pandas as pd\n",
    "import seaborn as sns\n",
    "import matplotlib.pyplot as plt\n",
    "df=pd.read_csv('datasets/train.csv')"
   ]
  },
  {
   "cell_type": "code",
   "execution_count": 7,
   "id": "492c6976-52c0-4535-94b5-dba511b94bbc",
   "metadata": {},
   "outputs": [
    {
     "data": {
      "text/html": [
       "<div>\n",
       "<style scoped>\n",
       "    .dataframe tbody tr th:only-of-type {\n",
       "        vertical-align: middle;\n",
       "    }\n",
       "\n",
       "    .dataframe tbody tr th {\n",
       "        vertical-align: top;\n",
       "    }\n",
       "\n",
       "    .dataframe thead th {\n",
       "        text-align: right;\n",
       "    }\n",
       "</style>\n",
       "<table border=\"1\" class=\"dataframe\">\n",
       "  <thead>\n",
       "    <tr style=\"text-align: right;\">\n",
       "      <th></th>\n",
       "      <th>PassengerId</th>\n",
       "      <th>Survived</th>\n",
       "      <th>Pclass</th>\n",
       "      <th>Name</th>\n",
       "      <th>Sex</th>\n",
       "      <th>Age</th>\n",
       "      <th>SibSp</th>\n",
       "      <th>Parch</th>\n",
       "      <th>Ticket</th>\n",
       "      <th>Fare</th>\n",
       "      <th>Cabin</th>\n",
       "      <th>Embarked</th>\n",
       "    </tr>\n",
       "  </thead>\n",
       "  <tbody>\n",
       "    <tr>\n",
       "      <th>0</th>\n",
       "      <td>1</td>\n",
       "      <td>0</td>\n",
       "      <td>3</td>\n",
       "      <td>Braund, Mr. Owen Harris</td>\n",
       "      <td>male</td>\n",
       "      <td>22.0</td>\n",
       "      <td>1</td>\n",
       "      <td>0</td>\n",
       "      <td>A/5 21171</td>\n",
       "      <td>7.2500</td>\n",
       "      <td>NaN</td>\n",
       "      <td>S</td>\n",
       "    </tr>\n",
       "    <tr>\n",
       "      <th>1</th>\n",
       "      <td>2</td>\n",
       "      <td>1</td>\n",
       "      <td>1</td>\n",
       "      <td>Cumings, Mrs. John Bradley (Florence Briggs Th...</td>\n",
       "      <td>female</td>\n",
       "      <td>38.0</td>\n",
       "      <td>1</td>\n",
       "      <td>0</td>\n",
       "      <td>PC 17599</td>\n",
       "      <td>71.2833</td>\n",
       "      <td>C85</td>\n",
       "      <td>C</td>\n",
       "    </tr>\n",
       "    <tr>\n",
       "      <th>2</th>\n",
       "      <td>3</td>\n",
       "      <td>1</td>\n",
       "      <td>3</td>\n",
       "      <td>Heikkinen, Miss. Laina</td>\n",
       "      <td>female</td>\n",
       "      <td>26.0</td>\n",
       "      <td>0</td>\n",
       "      <td>0</td>\n",
       "      <td>STON/O2. 3101282</td>\n",
       "      <td>7.9250</td>\n",
       "      <td>NaN</td>\n",
       "      <td>S</td>\n",
       "    </tr>\n",
       "    <tr>\n",
       "      <th>3</th>\n",
       "      <td>4</td>\n",
       "      <td>1</td>\n",
       "      <td>1</td>\n",
       "      <td>Futrelle, Mrs. Jacques Heath (Lily May Peel)</td>\n",
       "      <td>female</td>\n",
       "      <td>35.0</td>\n",
       "      <td>1</td>\n",
       "      <td>0</td>\n",
       "      <td>113803</td>\n",
       "      <td>53.1000</td>\n",
       "      <td>C123</td>\n",
       "      <td>S</td>\n",
       "    </tr>\n",
       "    <tr>\n",
       "      <th>4</th>\n",
       "      <td>5</td>\n",
       "      <td>0</td>\n",
       "      <td>3</td>\n",
       "      <td>Allen, Mr. William Henry</td>\n",
       "      <td>male</td>\n",
       "      <td>35.0</td>\n",
       "      <td>0</td>\n",
       "      <td>0</td>\n",
       "      <td>373450</td>\n",
       "      <td>8.0500</td>\n",
       "      <td>NaN</td>\n",
       "      <td>S</td>\n",
       "    </tr>\n",
       "  </tbody>\n",
       "</table>\n",
       "</div>"
      ],
      "text/plain": [
       "   PassengerId  Survived  Pclass  \\\n",
       "0            1         0       3   \n",
       "1            2         1       1   \n",
       "2            3         1       3   \n",
       "3            4         1       1   \n",
       "4            5         0       3   \n",
       "\n",
       "                                                Name     Sex   Age  SibSp  \\\n",
       "0                            Braund, Mr. Owen Harris    male  22.0      1   \n",
       "1  Cumings, Mrs. John Bradley (Florence Briggs Th...  female  38.0      1   \n",
       "2                             Heikkinen, Miss. Laina  female  26.0      0   \n",
       "3       Futrelle, Mrs. Jacques Heath (Lily May Peel)  female  35.0      1   \n",
       "4                           Allen, Mr. William Henry    male  35.0      0   \n",
       "\n",
       "   Parch            Ticket     Fare Cabin Embarked  \n",
       "0      0         A/5 21171   7.2500   NaN        S  \n",
       "1      0          PC 17599  71.2833   C85        C  \n",
       "2      0  STON/O2. 3101282   7.9250   NaN        S  \n",
       "3      0            113803  53.1000  C123        S  \n",
       "4      0            373450   8.0500   NaN        S  "
      ]
     },
     "execution_count": 7,
     "metadata": {},
     "output_type": "execute_result"
    }
   ],
   "source": [
    "df.head()"
   ]
  },
  {
   "cell_type": "markdown",
   "id": "b8b8fd6d-9926-47a8-aabb-33eef773d9a6",
   "metadata": {},
   "source": [
    "# 1. Categorical Data"
   ]
  },
  {
   "cell_type": "markdown",
   "id": "9f889653-ff64-4c19-827b-7cef0f051de3",
   "metadata": {},
   "source": [
    "### a.Countplot"
   ]
  },
  {
   "cell_type": "code",
   "execution_count": 3,
   "id": "316a9e74-8121-4851-b546-68652bdb488f",
   "metadata": {},
   "outputs": [
    {
     "data": {
      "text/plain": [
       "Survived\n",
       "0    549\n",
       "1    342\n",
       "Name: count, dtype: int64"
      ]
     },
     "execution_count": 3,
     "metadata": {},
     "output_type": "execute_result"
    },
    {
     "data": {
      "image/png": "[encoded data removed]",
      "text/plain": [
       "<Figure size 640x480 with 1 Axes>"
      ]
     },
     "metadata": {},
     "output_type": "display_data"
    }
   ],
   "source": [
    "sns.countplot(df,x=\"Survived\")\n",
    "df['Survived'].value_counts()"
   ]
  },
  {
   "cell_type": "code",
   "execution_count": 24,
   "id": "f3c7f9ed-a978-4f92-97f6-4067b6a10547",
   "metadata": {},
   "outputs": [
    {
     "data": {
      "text/plain": [
       "Parch\n",
       "0    678\n",
       "1    118\n",
       "2     80\n",
       "5      5\n",
       "3      5\n",
       "4      4\n",
       "6      1\n",
       "Name: count, dtype: int64"
      ]
     },
     "execution_count": 24,
     "metadata": {},
     "output_type": "execute_result"
    }
   ],
   "source": [
    "df['Pclass'].value_counts()\n",
    "df['Sex'].value_counts()\n",
    "df['Embarked'].value_counts()\n",
    "df['Parch'].value_counts()"
   ]
  },
  {
   "cell_type": "markdown",
   "id": "c5c39c56-9342-4752-8d29-ff07b8c5620d",
   "metadata": {},
   "source": [
    "### b. PieChart"
   ]
  },
  {
   "cell_type": "code",
   "execution_count": 23,
   "id": "55992e66-077b-4f22-a826-4f52b26bab0e",
   "metadata": {},
   "outputs": [
    {
     "data": {
      "text/plain": [
       "<Axes: ylabel='count'>"
      ]
     },
     "execution_count": 23,
     "metadata": {},
     "output_type": "execute_result"
    },
    {
     "data": {
      "image/png": "[encoded data removed]",
      "text/plain": [
       "<Figure size 640x480 with 1 Axes>"
      ]
     },
     "metadata": {},
     "output_type": "display_data"
    }
   ],
   "source": [
    "# df['Embarked'].value_counts().plot(kind='pie', autopct='%.2f')\n",
    "df['Pclass'].value_counts().plot(kind='pie', autopct='%.2f')\n",
    "# df['Parch'].value_counts().plot(kind='pie', autopct='%.2f')"
   ]
  },
  {
   "cell_type": "markdown",
   "id": "d3b0f4a9-5f7e-463d-83e8-29e65e7ab494",
   "metadata": {},
   "source": [
    "# 2. Numerical Data"
   ]
  },
  {
   "cell_type": "markdown",
   "id": "29c65637-3607-4562-b8ff-f7fd22faaf50",
   "metadata": {},
   "source": [
    "### a. Histogram"
   ]
  },
  {
   "cell_type": "code",
   "execution_count": 27,
   "id": "64d2c303-668d-479c-a0d5-839f41228fad",
   "metadata": {},
   "outputs": [
    {
     "data": {
      "text/plain": [
       "(array([24.,  6., 14.,  3.,  7.,  8.,  6.,  3.,  7., 22., 13., 51., 40.,\n",
       "        27., 46., 24., 36., 47., 27., 35., 17., 34., 29., 11., 27.,  8.,\n",
       "        18.,  9., 17., 18.,  6., 17.,  6.,  9.,  7.,  2.,  7.,  4.,  7.,\n",
       "         4.,  3.,  1.,  0.,  2.,  3.,  0.,  1.,  0.,  0.,  1.]),\n",
       " array([ 0.42  ,  2.0116,  3.6032,  5.1948,  6.7864,  8.378 ,  9.9696,\n",
       "        11.5612, 13.1528, 14.7444, 16.336 , 17.9276, 19.5192, 21.1108,\n",
       "        22.7024, 24.294 , 25.8856, 27.4772, 29.0688, 30.6604, 32.252 ,\n",
       "        33.8436, 35.4352, 37.0268, 38.6184, 40.21  , 41.8016, 43.3932,\n",
       "        44.9848, 46.5764, 48.168 , 49.7596, 51.3512, 52.9428, 54.5344,\n",
       "        56.126 , 57.7176, 59.3092, 60.9008, 62.4924, 64.084 , 65.6756,\n",
       "        67.2672, 68.8588, 70.4504, 72.042 , 73.6336, 75.2252, 76.8168,\n",
       "        78.4084, 80.    ]),\n",
       " <BarContainer object of 50 artists>)"
      ]
     },
     "execution_count": 27,
     "metadata": {},
     "output_type": "execute_result"
    },
    {
     "data": {
      "image/png": "[encoded data removed]",
      "text/plain": [
       "<Figure size 640x480 with 1 Axes>"
      ]
     },
     "metadata": {},
     "output_type": "display_data"
    }
   ],
   "source": [
    "plt.hist(df['Age'],bins=50)"
   ]
  },
  {
   "cell_type": "markdown",
   "id": "f5d9b533-ffd9-46b3-85c3-cc62745f54d2",
   "metadata": {},
   "source": [
    "### b. Distplot"
   ]
  },
  {
   "cell_type": "code",
   "execution_count": 31,
   "id": "f8e8ae26-18e6-4293-9d26-ce61a2ca9c24",
   "metadata": {},
   "outputs": [
    {
     "name": "stderr",
     "output_type": "stream",
     "text": [
      "C:\\Users\\S.B. Engineering\\AppData\\Local\\Temp\\ipykernel_16188\\3255828239.py:1: UserWarning: \n",
      "\n",
      "`distplot` is a deprecated function and will be removed in seaborn v0.14.0.\n",
      "\n",
      "Please adapt your code to use either `displot` (a figure-level function with\n",
      "similar flexibility) or `histplot` (an axes-level function for histograms).\n",
      "\n",
      "For a guide to updating your code to use the new functions, please see\n",
      "https://gist.github.com/mwaskom/de44147ed2974457ad6372750bbe5751\n",
      "\n",
      "  sns.distplot(df['Age'])\n"
     ]
    },
    {
     "data": {
      "text/plain": [
       "<Axes: xlabel='Age', ylabel='Density'>"
      ]
     },
     "execution_count": 31,
     "metadata": {},
     "output_type": "execute_result"
    },
    {
     "data": {
      "image/png": "[encoded data removed]",
      "text/plain": [
       "<Figure size 640x480 with 1 Axes>"
      ]
     },
     "metadata": {},
     "output_type": "display_data"
    }
   ],
   "source": [
    "sns.distplot(df['Age'])"
   ]
  },
  {
   "cell_type": "markdown",
   "id": "431763ff-073a-497a-b7ba-9d7159d4db2b",
   "metadata": {},
   "source": [
    "### c. Boxplot"
   ]
  },
  {
   "cell_type": "code",
   "execution_count": 33,
   "id": "9228879e-1a1b-417f-91e4-28e7d5e592e9",
   "metadata": {},
   "outputs": [
    {
     "data": {
      "text/plain": [
       "<Axes: ylabel='Age'>"
      ]
     },
     "execution_count": 33,
     "metadata": {},
     "output_type": "execute_result"
    },
    {
     "data": {
      "image/png": "[encoded data removed]",
      "text/plain": [
       "<Figure size 640x480 with 1 Axes>"
      ]
     },
     "metadata": {},
     "output_type": "display_data"
    }
   ],
   "source": [
    "sns.boxplot(df['Age'])"
   ]
  },
  {
   "cell_type": "code",
   "execution_count": 37,
   "id": "c55ab69f-90d8-43a4-b8d7-ee9d460e1e79",
   "metadata": {},
   "outputs": [
    {
     "data": {
      "text/plain": [
       "0.0"
      ]
     },
     "execution_count": 37,
     "metadata": {},
     "output_type": "execute_result"
    }
   ],
   "source": [
    "df['Age'].min()\n",
    "df['Fare'].min()"
   ]
  },
  {
   "cell_type": "code",
   "execution_count": 38,
   "id": "6a7bfeb2-0c4a-4238-b54c-63956d895a46",
   "metadata": {},
   "outputs": [
    {
     "data": {
      "text/plain": [
       "512.3292"
      ]
     },
     "execution_count": 38,
     "metadata": {},
     "output_type": "execute_result"
    }
   ],
   "source": [
    "df['Age'].max()\n",
    "df['Fare'].max()"
   ]
  },
  {
   "cell_type": "code",
   "execution_count": 39,
   "id": "805f9633-3963-4894-af9a-34db7b666c7a",
   "metadata": {},
   "outputs": [
    {
     "data": {
      "text/plain": [
       "np.float64(32.204207968574636)"
      ]
     },
     "execution_count": 39,
     "metadata": {},
     "output_type": "execute_result"
    }
   ],
   "source": [
    "df['Age'].mean()\n",
    "df['Fare'].mean()"
   ]
  },
  {
   "cell_type": "code",
   "execution_count": 41,
   "id": "c5f757d4-9062-4ad5-9e73-c8cbefd06cb9",
   "metadata": {},
   "outputs": [
    {
     "data": {
      "text/plain": [
       "np.float64(0.38910778230082704)"
      ]
     },
     "execution_count": 41,
     "metadata": {},
     "output_type": "execute_result"
    }
   ],
   "source": [
    "#Skewness\n",
    "df['Age'].skew()"
   ]
  },
  {
   "cell_type": "code",
   "execution_count": 42,
   "id": "057ca330-0faa-408a-a166-f0d45309c813",
   "metadata": {},
   "outputs": [
    {
     "data": {
      "text/html": [
       "<div>\n",
       "<style scoped>\n",
       "    .dataframe tbody tr th:only-of-type {\n",
       "        vertical-align: middle;\n",
       "    }\n",
       "\n",
       "    .dataframe tbody tr th {\n",
       "        vertical-align: top;\n",
       "    }\n",
       "\n",
       "    .dataframe thead th {\n",
       "        text-align: right;\n",
       "    }\n",
       "</style>\n",
       "<table border=\"1\" class=\"dataframe\">\n",
       "  <thead>\n",
       "    <tr style=\"text-align: right;\">\n",
       "      <th></th>\n",
       "      <th>user_id</th>\n",
       "      <th>gender</th>\n",
       "      <th>age</th>\n",
       "      <th>country</th>\n",
       "      <th>subscription_type</th>\n",
       "      <th>listening_time</th>\n",
       "      <th>songs_played_per_day</th>\n",
       "      <th>skip_rate</th>\n",
       "      <th>device_type</th>\n",
       "      <th>ads_listened_per_week</th>\n",
       "      <th>offline_listening</th>\n",
       "      <th>is_churned</th>\n",
       "    </tr>\n",
       "  </thead>\n",
       "  <tbody>\n",
       "    <tr>\n",
       "      <th>0</th>\n",
       "      <td>1</td>\n",
       "      <td>Female</td>\n",
       "      <td>54</td>\n",
       "      <td>CA</td>\n",
       "      <td>Free</td>\n",
       "      <td>26</td>\n",
       "      <td>23</td>\n",
       "      <td>0.20</td>\n",
       "      <td>Desktop</td>\n",
       "      <td>31</td>\n",
       "      <td>0</td>\n",
       "      <td>1</td>\n",
       "    </tr>\n",
       "    <tr>\n",
       "      <th>1</th>\n",
       "      <td>2</td>\n",
       "      <td>Other</td>\n",
       "      <td>33</td>\n",
       "      <td>DE</td>\n",
       "      <td>Family</td>\n",
       "      <td>141</td>\n",
       "      <td>62</td>\n",
       "      <td>0.34</td>\n",
       "      <td>Web</td>\n",
       "      <td>0</td>\n",
       "      <td>1</td>\n",
       "      <td>0</td>\n",
       "    </tr>\n",
       "    <tr>\n",
       "      <th>2</th>\n",
       "      <td>3</td>\n",
       "      <td>Male</td>\n",
       "      <td>38</td>\n",
       "      <td>AU</td>\n",
       "      <td>Premium</td>\n",
       "      <td>199</td>\n",
       "      <td>38</td>\n",
       "      <td>0.04</td>\n",
       "      <td>Mobile</td>\n",
       "      <td>0</td>\n",
       "      <td>1</td>\n",
       "      <td>1</td>\n",
       "    </tr>\n",
       "    <tr>\n",
       "      <th>3</th>\n",
       "      <td>4</td>\n",
       "      <td>Female</td>\n",
       "      <td>22</td>\n",
       "      <td>CA</td>\n",
       "      <td>Student</td>\n",
       "      <td>36</td>\n",
       "      <td>2</td>\n",
       "      <td>0.31</td>\n",
       "      <td>Mobile</td>\n",
       "      <td>0</td>\n",
       "      <td>1</td>\n",
       "      <td>0</td>\n",
       "    </tr>\n",
       "    <tr>\n",
       "      <th>4</th>\n",
       "      <td>5</td>\n",
       "      <td>Other</td>\n",
       "      <td>29</td>\n",
       "      <td>US</td>\n",
       "      <td>Family</td>\n",
       "      <td>250</td>\n",
       "      <td>57</td>\n",
       "      <td>0.36</td>\n",
       "      <td>Mobile</td>\n",
       "      <td>0</td>\n",
       "      <td>1</td>\n",
       "      <td>1</td>\n",
       "    </tr>\n",
       "  </tbody>\n",
       "</table>\n",
       "</div>"
      ],
      "text/plain": [
       "   user_id  gender  age country subscription_type  listening_time  \\\n",
       "0        1  Female   54      CA              Free              26   \n",
       "1        2   Other   33      DE            Family             141   \n",
       "2        3    Male   38      AU           Premium             199   \n",
       "3        4  Female   22      CA           Student              36   \n",
       "4        5   Other   29      US            Family             250   \n",
       "\n",
       "   songs_played_per_day  skip_rate device_type  ads_listened_per_week  \\\n",
       "0                    23       0.20     Desktop                     31   \n",
       "1                    62       0.34         Web                      0   \n",
       "2                    38       0.04      Mobile                      0   \n",
       "3                     2       0.31      Mobile                      0   \n",
       "4                    57       0.36      Mobile                      0   \n",
       "\n",
       "   offline_listening  is_churned  \n",
       "0                  0           1  \n",
       "1                  1           0  \n",
       "2                  1           1  \n",
       "3                  1           0  \n",
       "4                  1           1  "
      ]
     },
     "execution_count": 42,
     "metadata": {},
     "output_type": "execute_result"
    }
   ],
   "source": [
    "df=pd.read_csv('datasets/spotify_churn_dataset.csv')\n",
    "df.head()"
   ]
  },
  {
   "cell_type": "code",
   "execution_count": 52,
   "id": "f834eca3-3b71-4db7-8c4d-d213ac170461",
   "metadata": {},
   "outputs": [
    {
     "data": {
      "text/plain": [
       "user_id                  0\n",
       "gender                   0\n",
       "age                      0\n",
       "country                  0\n",
       "subscription_type        0\n",
       "listening_time           0\n",
       "songs_played_per_day     0\n",
       "skip_rate                0\n",
       "device_type              0\n",
       "ads_listened_per_week    0\n",
       "offline_listening        0\n",
       "is_churned               0\n",
       "dtype: int64"
      ]
     },
     "execution_count": 52,
     "metadata": {},
     "output_type": "execute_result"
    }
   ],
   "source": [
    "# df.columns\n",
    "# df.info()\n",
    "df.isnull().sum()"
   ]
  },
  {
   "cell_type": "code",
   "execution_count": 53,
   "id": "56c87a1e-93e9-4771-9d16-386a5a05d699",
   "metadata": {},
   "outputs": [
    {
     "data": {
      "text/plain": [
       "(8000, 12)"
      ]
     },
     "execution_count": 53,
     "metadata": {},
     "output_type": "execute_result"
    }
   ],
   "source": [
    "df.shape"
   ]
  },
  {
   "cell_type": "code",
   "execution_count": 54,
   "id": "84e10acb-06e3-4026-ae8a-610a52f6d3b9",
   "metadata": {},
   "outputs": [
    {
     "data": {
      "text/html": [
       "<div>\n",
       "<style scoped>\n",
       "    .dataframe tbody tr th:only-of-type {\n",
       "        vertical-align: middle;\n",
       "    }\n",
       "\n",
       "    .dataframe tbody tr th {\n",
       "        vertical-align: top;\n",
       "    }\n",
       "\n",
       "    .dataframe thead th {\n",
       "        text-align: right;\n",
       "    }\n",
       "</style>\n",
       "<table border=\"1\" class=\"dataframe\">\n",
       "  <thead>\n",
       "    <tr style=\"text-align: right;\">\n",
       "      <th></th>\n",
       "      <th>user_id</th>\n",
       "      <th>gender</th>\n",
       "      <th>age</th>\n",
       "      <th>country</th>\n",
       "      <th>subscription_type</th>\n",
       "      <th>listening_time</th>\n",
       "      <th>songs_played_per_day</th>\n",
       "      <th>skip_rate</th>\n",
       "      <th>device_type</th>\n",
       "      <th>ads_listened_per_week</th>\n",
       "      <th>offline_listening</th>\n",
       "      <th>is_churned</th>\n",
       "    </tr>\n",
       "  </thead>\n",
       "  <tbody>\n",
       "    <tr>\n",
       "      <th>2967</th>\n",
       "      <td>2968</td>\n",
       "      <td>Male</td>\n",
       "      <td>37</td>\n",
       "      <td>PK</td>\n",
       "      <td>Premium</td>\n",
       "      <td>280</td>\n",
       "      <td>55</td>\n",
       "      <td>0.29</td>\n",
       "      <td>Desktop</td>\n",
       "      <td>0</td>\n",
       "      <td>1</td>\n",
       "      <td>0</td>\n",
       "    </tr>\n",
       "    <tr>\n",
       "      <th>2709</th>\n",
       "      <td>2710</td>\n",
       "      <td>Male</td>\n",
       "      <td>43</td>\n",
       "      <td>FR</td>\n",
       "      <td>Free</td>\n",
       "      <td>260</td>\n",
       "      <td>29</td>\n",
       "      <td>0.03</td>\n",
       "      <td>Web</td>\n",
       "      <td>6</td>\n",
       "      <td>0</td>\n",
       "      <td>0</td>\n",
       "    </tr>\n",
       "    <tr>\n",
       "      <th>6592</th>\n",
       "      <td>6593</td>\n",
       "      <td>Male</td>\n",
       "      <td>36</td>\n",
       "      <td>FR</td>\n",
       "      <td>Family</td>\n",
       "      <td>176</td>\n",
       "      <td>67</td>\n",
       "      <td>0.46</td>\n",
       "      <td>Web</td>\n",
       "      <td>0</td>\n",
       "      <td>1</td>\n",
       "      <td>0</td>\n",
       "    </tr>\n",
       "    <tr>\n",
       "      <th>3912</th>\n",
       "      <td>3913</td>\n",
       "      <td>Male</td>\n",
       "      <td>48</td>\n",
       "      <td>DE</td>\n",
       "      <td>Family</td>\n",
       "      <td>161</td>\n",
       "      <td>57</td>\n",
       "      <td>0.47</td>\n",
       "      <td>Mobile</td>\n",
       "      <td>0</td>\n",
       "      <td>1</td>\n",
       "      <td>1</td>\n",
       "    </tr>\n",
       "    <tr>\n",
       "      <th>6029</th>\n",
       "      <td>6030</td>\n",
       "      <td>Female</td>\n",
       "      <td>32</td>\n",
       "      <td>PK</td>\n",
       "      <td>Student</td>\n",
       "      <td>154</td>\n",
       "      <td>70</td>\n",
       "      <td>0.57</td>\n",
       "      <td>Mobile</td>\n",
       "      <td>0</td>\n",
       "      <td>1</td>\n",
       "      <td>0</td>\n",
       "    </tr>\n",
       "    <tr>\n",
       "      <th>7237</th>\n",
       "      <td>7238</td>\n",
       "      <td>Other</td>\n",
       "      <td>57</td>\n",
       "      <td>CA</td>\n",
       "      <td>Family</td>\n",
       "      <td>107</td>\n",
       "      <td>32</td>\n",
       "      <td>0.14</td>\n",
       "      <td>Desktop</td>\n",
       "      <td>0</td>\n",
       "      <td>1</td>\n",
       "      <td>1</td>\n",
       "    </tr>\n",
       "    <tr>\n",
       "      <th>3300</th>\n",
       "      <td>3301</td>\n",
       "      <td>Other</td>\n",
       "      <td>42</td>\n",
       "      <td>AU</td>\n",
       "      <td>Student</td>\n",
       "      <td>24</td>\n",
       "      <td>70</td>\n",
       "      <td>0.17</td>\n",
       "      <td>Mobile</td>\n",
       "      <td>0</td>\n",
       "      <td>1</td>\n",
       "      <td>0</td>\n",
       "    </tr>\n",
       "    <tr>\n",
       "      <th>1950</th>\n",
       "      <td>1951</td>\n",
       "      <td>Female</td>\n",
       "      <td>29</td>\n",
       "      <td>CA</td>\n",
       "      <td>Free</td>\n",
       "      <td>223</td>\n",
       "      <td>89</td>\n",
       "      <td>0.24</td>\n",
       "      <td>Desktop</td>\n",
       "      <td>16</td>\n",
       "      <td>0</td>\n",
       "      <td>0</td>\n",
       "    </tr>\n",
       "    <tr>\n",
       "      <th>1303</th>\n",
       "      <td>1304</td>\n",
       "      <td>Other</td>\n",
       "      <td>31</td>\n",
       "      <td>CA</td>\n",
       "      <td>Family</td>\n",
       "      <td>149</td>\n",
       "      <td>96</td>\n",
       "      <td>0.28</td>\n",
       "      <td>Desktop</td>\n",
       "      <td>0</td>\n",
       "      <td>1</td>\n",
       "      <td>0</td>\n",
       "    </tr>\n",
       "    <tr>\n",
       "      <th>4463</th>\n",
       "      <td>4464</td>\n",
       "      <td>Other</td>\n",
       "      <td>47</td>\n",
       "      <td>US</td>\n",
       "      <td>Free</td>\n",
       "      <td>283</td>\n",
       "      <td>24</td>\n",
       "      <td>0.15</td>\n",
       "      <td>Web</td>\n",
       "      <td>28</td>\n",
       "      <td>0</td>\n",
       "      <td>0</td>\n",
       "    </tr>\n",
       "  </tbody>\n",
       "</table>\n",
       "</div>"
      ],
      "text/plain": [
       "      user_id  gender  age country subscription_type  listening_time  \\\n",
       "2967     2968    Male   37      PK           Premium             280   \n",
       "2709     2710    Male   43      FR              Free             260   \n",
       "6592     6593    Male   36      FR            Family             176   \n",
       "3912     3913    Male   48      DE            Family             161   \n",
       "6029     6030  Female   32      PK           Student             154   \n",
       "7237     7238   Other   57      CA            Family             107   \n",
       "3300     3301   Other   42      AU           Student              24   \n",
       "1950     1951  Female   29      CA              Free             223   \n",
       "1303     1304   Other   31      CA            Family             149   \n",
       "4463     4464   Other   47      US              Free             283   \n",
       "\n",
       "      songs_played_per_day  skip_rate device_type  ads_listened_per_week  \\\n",
       "2967                    55       0.29     Desktop                      0   \n",
       "2709                    29       0.03         Web                      6   \n",
       "6592                    67       0.46         Web                      0   \n",
       "3912                    57       0.47      Mobile                      0   \n",
       "6029                    70       0.57      Mobile                      0   \n",
       "7237                    32       0.14     Desktop                      0   \n",
       "3300                    70       0.17      Mobile                      0   \n",
       "1950                    89       0.24     Desktop                     16   \n",
       "1303                    96       0.28     Desktop                      0   \n",
       "4463                    24       0.15         Web                     28   \n",
       "\n",
       "      offline_listening  is_churned  \n",
       "2967                  1           0  \n",
       "2709                  0           0  \n",
       "6592                  1           0  \n",
       "3912                  1           1  \n",
       "6029                  1           0  \n",
       "7237                  1           1  \n",
       "3300                  1           0  \n",
       "1950                  0           0  \n",
       "1303                  1           0  \n",
       "4463                  0           0  "
      ]
     },
     "execution_count": 54,
     "metadata": {},
     "output_type": "execute_result"
    }
   ],
   "source": [
    "df.sample(10)"
   ]
  },
  {
   "cell_type": "code",
   "execution_count": 55,
   "id": "38213908-fde3-43bf-80a8-58a215c11a6f",
   "metadata": {},
   "outputs": [
    {
     "data": {
      "text/html": [
       "<div>\n",
       "<style scoped>\n",
       "    .dataframe tbody tr th:only-of-type {\n",
       "        vertical-align: middle;\n",
       "    }\n",
       "\n",
       "    .dataframe tbody tr th {\n",
       "        vertical-align: top;\n",
       "    }\n",
       "\n",
       "    .dataframe thead th {\n",
       "        text-align: right;\n",
       "    }\n",
       "</style>\n",
       "<table border=\"1\" class=\"dataframe\">\n",
       "  <thead>\n",
       "    <tr style=\"text-align: right;\">\n",
       "      <th></th>\n",
       "      <th>user_id</th>\n",
       "      <th>age</th>\n",
       "      <th>listening_time</th>\n",
       "      <th>songs_played_per_day</th>\n",
       "      <th>skip_rate</th>\n",
       "      <th>ads_listened_per_week</th>\n",
       "      <th>offline_listening</th>\n",
       "      <th>is_churned</th>\n",
       "    </tr>\n",
       "  </thead>\n",
       "  <tbody>\n",
       "    <tr>\n",
       "      <th>count</th>\n",
       "      <td>8000.00000</td>\n",
       "      <td>8000.000000</td>\n",
       "      <td>8000.000000</td>\n",
       "      <td>8000.000000</td>\n",
       "      <td>8000.000000</td>\n",
       "      <td>8000.000000</td>\n",
       "      <td>8000.000000</td>\n",
       "      <td>8000.000000</td>\n",
       "    </tr>\n",
       "    <tr>\n",
       "      <th>mean</th>\n",
       "      <td>4000.50000</td>\n",
       "      <td>37.662125</td>\n",
       "      <td>154.068250</td>\n",
       "      <td>50.127250</td>\n",
       "      <td>0.300127</td>\n",
       "      <td>6.943875</td>\n",
       "      <td>0.747750</td>\n",
       "      <td>0.258875</td>\n",
       "    </tr>\n",
       "    <tr>\n",
       "      <th>std</th>\n",
       "      <td>2309.54541</td>\n",
       "      <td>12.740359</td>\n",
       "      <td>84.015596</td>\n",
       "      <td>28.449762</td>\n",
       "      <td>0.173594</td>\n",
       "      <td>13.617953</td>\n",
       "      <td>0.434331</td>\n",
       "      <td>0.438044</td>\n",
       "    </tr>\n",
       "    <tr>\n",
       "      <th>min</th>\n",
       "      <td>1.00000</td>\n",
       "      <td>16.000000</td>\n",
       "      <td>10.000000</td>\n",
       "      <td>1.000000</td>\n",
       "      <td>0.000000</td>\n",
       "      <td>0.000000</td>\n",
       "      <td>0.000000</td>\n",
       "      <td>0.000000</td>\n",
       "    </tr>\n",
       "    <tr>\n",
       "      <th>25%</th>\n",
       "      <td>2000.75000</td>\n",
       "      <td>26.000000</td>\n",
       "      <td>81.000000</td>\n",
       "      <td>25.000000</td>\n",
       "      <td>0.150000</td>\n",
       "      <td>0.000000</td>\n",
       "      <td>0.000000</td>\n",
       "      <td>0.000000</td>\n",
       "    </tr>\n",
       "    <tr>\n",
       "      <th>50%</th>\n",
       "      <td>4000.50000</td>\n",
       "      <td>38.000000</td>\n",
       "      <td>154.000000</td>\n",
       "      <td>50.000000</td>\n",
       "      <td>0.300000</td>\n",
       "      <td>0.000000</td>\n",
       "      <td>1.000000</td>\n",
       "      <td>0.000000</td>\n",
       "    </tr>\n",
       "    <tr>\n",
       "      <th>75%</th>\n",
       "      <td>6000.25000</td>\n",
       "      <td>49.000000</td>\n",
       "      <td>227.000000</td>\n",
       "      <td>75.000000</td>\n",
       "      <td>0.450000</td>\n",
       "      <td>5.000000</td>\n",
       "      <td>1.000000</td>\n",
       "      <td>1.000000</td>\n",
       "    </tr>\n",
       "    <tr>\n",
       "      <th>max</th>\n",
       "      <td>8000.00000</td>\n",
       "      <td>59.000000</td>\n",
       "      <td>299.000000</td>\n",
       "      <td>99.000000</td>\n",
       "      <td>0.600000</td>\n",
       "      <td>49.000000</td>\n",
       "      <td>1.000000</td>\n",
       "      <td>1.000000</td>\n",
       "    </tr>\n",
       "  </tbody>\n",
       "</table>\n",
       "</div>"
      ],
      "text/plain": [
       "          user_id          age  listening_time  songs_played_per_day  \\\n",
       "count  8000.00000  8000.000000     8000.000000           8000.000000   \n",
       "mean   4000.50000    37.662125      154.068250             50.127250   \n",
       "std    2309.54541    12.740359       84.015596             28.449762   \n",
       "min       1.00000    16.000000       10.000000              1.000000   \n",
       "25%    2000.75000    26.000000       81.000000             25.000000   \n",
       "50%    4000.50000    38.000000      154.000000             50.000000   \n",
       "75%    6000.25000    49.000000      227.000000             75.000000   \n",
       "max    8000.00000    59.000000      299.000000             99.000000   \n",
       "\n",
       "         skip_rate  ads_listened_per_week  offline_listening   is_churned  \n",
       "count  8000.000000            8000.000000        8000.000000  8000.000000  \n",
       "mean      0.300127               6.943875           0.747750     0.258875  \n",
       "std       0.173594              13.617953           0.434331     0.438044  \n",
       "min       0.000000               0.000000           0.000000     0.000000  \n",
       "25%       0.150000               0.000000           0.000000     0.000000  \n",
       "50%       0.300000               0.000000           1.000000     0.000000  \n",
       "75%       0.450000               5.000000           1.000000     1.000000  \n",
       "max       0.600000              49.000000           1.000000     1.000000  "
      ]
     },
     "execution_count": 55,
     "metadata": {},
     "output_type": "execute_result"
    }
   ],
   "source": [
    "df.describe()"
   ]
  },
  {
   "cell_type": "code",
   "execution_count": 56,
   "id": "15cbbf2e-6db4-4006-b82e-13f73e2c74f0",
   "metadata": {},
   "outputs": [
    {
     "data": {
      "text/plain": [
       "np.int64(0)"
      ]
     },
     "execution_count": 56,
     "metadata": {},
     "output_type": "execute_result"
    }
   ],
   "source": [
    "df.duplicated().sum()"
   ]
  },
  {
   "cell_type": "code",
   "execution_count": 57,
   "id": "500fc755-dd48-47f4-9be9-73512ad10080",
   "metadata": {},
   "outputs": [
    {
     "data": {
      "text/html": [
       "<div>\n",
       "<style scoped>\n",
       "    .dataframe tbody tr th:only-of-type {\n",
       "        vertical-align: middle;\n",
       "    }\n",
       "\n",
       "    .dataframe tbody tr th {\n",
       "        vertical-align: top;\n",
       "    }\n",
       "\n",
       "    .dataframe thead th {\n",
       "        text-align: right;\n",
       "    }\n",
       "</style>\n",
       "<table border=\"1\" class=\"dataframe\">\n",
       "  <thead>\n",
       "    <tr style=\"text-align: right;\">\n",
       "      <th></th>\n",
       "      <th>user_id</th>\n",
       "      <th>age</th>\n",
       "      <th>listening_time</th>\n",
       "      <th>songs_played_per_day</th>\n",
       "      <th>skip_rate</th>\n",
       "      <th>ads_listened_per_week</th>\n",
       "      <th>offline_listening</th>\n",
       "      <th>is_churned</th>\n",
       "    </tr>\n",
       "  </thead>\n",
       "  <tbody>\n",
       "    <tr>\n",
       "      <th>user_id</th>\n",
       "      <td>1.000000</td>\n",
       "      <td>0.011728</td>\n",
       "      <td>-0.012948</td>\n",
       "      <td>0.024827</td>\n",
       "      <td>0.011637</td>\n",
       "      <td>-0.005517</td>\n",
       "      <td>0.002199</td>\n",
       "      <td>-0.015994</td>\n",
       "    </tr>\n",
       "    <tr>\n",
       "      <th>age</th>\n",
       "      <td>0.011728</td>\n",
       "      <td>1.000000</td>\n",
       "      <td>-0.012975</td>\n",
       "      <td>-0.006834</td>\n",
       "      <td>-0.019557</td>\n",
       "      <td>-0.011962</td>\n",
       "      <td>0.017061</td>\n",
       "      <td>0.003982</td>\n",
       "    </tr>\n",
       "    <tr>\n",
       "      <th>listening_time</th>\n",
       "      <td>-0.012948</td>\n",
       "      <td>-0.012975</td>\n",
       "      <td>1.000000</td>\n",
       "      <td>-0.010996</td>\n",
       "      <td>-0.013603</td>\n",
       "      <td>0.002279</td>\n",
       "      <td>-0.006421</td>\n",
       "      <td>-0.007624</td>\n",
       "    </tr>\n",
       "    <tr>\n",
       "      <th>songs_played_per_day</th>\n",
       "      <td>0.024827</td>\n",
       "      <td>-0.006834</td>\n",
       "      <td>-0.010996</td>\n",
       "      <td>1.000000</td>\n",
       "      <td>-0.000590</td>\n",
       "      <td>-0.017813</td>\n",
       "      <td>0.018846</td>\n",
       "      <td>0.009314</td>\n",
       "    </tr>\n",
       "    <tr>\n",
       "      <th>skip_rate</th>\n",
       "      <td>0.011637</td>\n",
       "      <td>-0.019557</td>\n",
       "      <td>-0.013603</td>\n",
       "      <td>-0.000590</td>\n",
       "      <td>1.000000</td>\n",
       "      <td>-0.012682</td>\n",
       "      <td>-0.002657</td>\n",
       "      <td>0.016121</td>\n",
       "    </tr>\n",
       "    <tr>\n",
       "      <th>ads_listened_per_week</th>\n",
       "      <td>-0.005517</td>\n",
       "      <td>-0.011962</td>\n",
       "      <td>0.002279</td>\n",
       "      <td>-0.017813</td>\n",
       "      <td>-0.012682</td>\n",
       "      <td>1.000000</td>\n",
       "      <td>-0.877970</td>\n",
       "      <td>-0.002279</td>\n",
       "    </tr>\n",
       "    <tr>\n",
       "      <th>offline_listening</th>\n",
       "      <td>0.002199</td>\n",
       "      <td>0.017061</td>\n",
       "      <td>-0.006421</td>\n",
       "      <td>0.018846</td>\n",
       "      <td>-0.002657</td>\n",
       "      <td>-0.877970</td>\n",
       "      <td>1.000000</td>\n",
       "      <td>0.012754</td>\n",
       "    </tr>\n",
       "    <tr>\n",
       "      <th>is_churned</th>\n",
       "      <td>-0.015994</td>\n",
       "      <td>0.003982</td>\n",
       "      <td>-0.007624</td>\n",
       "      <td>0.009314</td>\n",
       "      <td>0.016121</td>\n",
       "      <td>-0.002279</td>\n",
       "      <td>0.012754</td>\n",
       "      <td>1.000000</td>\n",
       "    </tr>\n",
       "  </tbody>\n",
       "</table>\n",
       "</div>"
      ],
      "text/plain": [
       "                        user_id       age  listening_time  \\\n",
       "user_id                1.000000  0.011728       -0.012948   \n",
       "age                    0.011728  1.000000       -0.012975   \n",
       "listening_time        -0.012948 -0.012975        1.000000   \n",
       "songs_played_per_day   0.024827 -0.006834       -0.010996   \n",
       "skip_rate              0.011637 -0.019557       -0.013603   \n",
       "ads_listened_per_week -0.005517 -0.011962        0.002279   \n",
       "offline_listening      0.002199  0.017061       -0.006421   \n",
       "is_churned            -0.015994  0.003982       -0.007624   \n",
       "\n",
       "                       songs_played_per_day  skip_rate  ads_listened_per_week  \\\n",
       "user_id                            0.024827   0.011637              -0.005517   \n",
       "age                               -0.006834  -0.019557              -0.011962   \n",
       "listening_time                    -0.010996  -0.013603               0.002279   \n",
       "songs_played_per_day               1.000000  -0.000590              -0.017813   \n",
       "skip_rate                         -0.000590   1.000000              -0.012682   \n",
       "ads_listened_per_week             -0.017813  -0.012682               1.000000   \n",
       "offline_listening                  0.018846  -0.002657              -0.877970   \n",
       "is_churned                         0.009314   0.016121              -0.002279   \n",
       "\n",
       "                       offline_listening  is_churned  \n",
       "user_id                         0.002199   -0.015994  \n",
       "age                             0.017061    0.003982  \n",
       "listening_time                 -0.006421   -0.007624  \n",
       "songs_played_per_day            0.018846    0.009314  \n",
       "skip_rate                      -0.002657    0.016121  \n",
       "ads_listened_per_week          -0.877970   -0.002279  \n",
       "offline_listening               1.000000    0.012754  \n",
       "is_churned                      0.012754    1.000000  "
      ]
     },
     "execution_count": 57,
     "metadata": {},
     "output_type": "execute_result"
    }
   ],
   "source": [
    "df.corr(numeric_only=True)"
   ]
  },
  {
   "cell_type": "markdown",
   "id": "4fe0db65-b716-4891-ab06-31a31ad65da7",
   "metadata": {},
   "source": [
    "### A correlation of –0.88 tells us that users who listen offline are strongly less exposed to ads, and ad-heavy listeners rarely use offline features."
   ]
  },
  {
   "cell_type": "code",
   "execution_count": 58,
   "id": "925f0ac0-ef95-4747-b67f-dfdaed2d841c",
   "metadata": {},
   "outputs": [
    {
     "data": {
      "text/html": [
       "<div>\n",
       "<style scoped>\n",
       "    .dataframe tbody tr th:only-of-type {\n",
       "        vertical-align: middle;\n",
       "    }\n",
       "\n",
       "    .dataframe tbody tr th {\n",
       "        vertical-align: top;\n",
       "    }\n",
       "\n",
       "    .dataframe thead th {\n",
       "        text-align: right;\n",
       "    }\n",
       "</style>\n",
       "<table border=\"1\" class=\"dataframe\">\n",
       "  <thead>\n",
       "    <tr style=\"text-align: right;\">\n",
       "      <th></th>\n",
       "      <th>user_id</th>\n",
       "      <th>gender</th>\n",
       "      <th>age</th>\n",
       "      <th>country</th>\n",
       "      <th>subscription_type</th>\n",
       "      <th>listening_time</th>\n",
       "      <th>songs_played_per_day</th>\n",
       "      <th>skip_rate</th>\n",
       "      <th>device_type</th>\n",
       "      <th>ads_listened_per_week</th>\n",
       "      <th>offline_listening</th>\n",
       "      <th>is_churned</th>\n",
       "    </tr>\n",
       "  </thead>\n",
       "  <tbody>\n",
       "    <tr>\n",
       "      <th>0</th>\n",
       "      <td>1</td>\n",
       "      <td>Female</td>\n",
       "      <td>54</td>\n",
       "      <td>CA</td>\n",
       "      <td>Free</td>\n",
       "      <td>26</td>\n",
       "      <td>23</td>\n",
       "      <td>0.20</td>\n",
       "      <td>Desktop</td>\n",
       "      <td>31</td>\n",
       "      <td>0</td>\n",
       "      <td>1</td>\n",
       "    </tr>\n",
       "    <tr>\n",
       "      <th>1</th>\n",
       "      <td>2</td>\n",
       "      <td>Other</td>\n",
       "      <td>33</td>\n",
       "      <td>DE</td>\n",
       "      <td>Family</td>\n",
       "      <td>141</td>\n",
       "      <td>62</td>\n",
       "      <td>0.34</td>\n",
       "      <td>Web</td>\n",
       "      <td>0</td>\n",
       "      <td>1</td>\n",
       "      <td>0</td>\n",
       "    </tr>\n",
       "    <tr>\n",
       "      <th>2</th>\n",
       "      <td>3</td>\n",
       "      <td>Male</td>\n",
       "      <td>38</td>\n",
       "      <td>AU</td>\n",
       "      <td>Premium</td>\n",
       "      <td>199</td>\n",
       "      <td>38</td>\n",
       "      <td>0.04</td>\n",
       "      <td>Mobile</td>\n",
       "      <td>0</td>\n",
       "      <td>1</td>\n",
       "      <td>1</td>\n",
       "    </tr>\n",
       "    <tr>\n",
       "      <th>3</th>\n",
       "      <td>4</td>\n",
       "      <td>Female</td>\n",
       "      <td>22</td>\n",
       "      <td>CA</td>\n",
       "      <td>Student</td>\n",
       "      <td>36</td>\n",
       "      <td>2</td>\n",
       "      <td>0.31</td>\n",
       "      <td>Mobile</td>\n",
       "      <td>0</td>\n",
       "      <td>1</td>\n",
       "      <td>0</td>\n",
       "    </tr>\n",
       "    <tr>\n",
       "      <th>4</th>\n",
       "      <td>5</td>\n",
       "      <td>Other</td>\n",
       "      <td>29</td>\n",
       "      <td>US</td>\n",
       "      <td>Family</td>\n",
       "      <td>250</td>\n",
       "      <td>57</td>\n",
       "      <td>0.36</td>\n",
       "      <td>Mobile</td>\n",
       "      <td>0</td>\n",
       "      <td>1</td>\n",
       "      <td>1</td>\n",
       "    </tr>\n",
       "  </tbody>\n",
       "</table>\n",
       "</div>"
      ],
      "text/plain": [
       "   user_id  gender  age country subscription_type  listening_time  \\\n",
       "0        1  Female   54      CA              Free              26   \n",
       "1        2   Other   33      DE            Family             141   \n",
       "2        3    Male   38      AU           Premium             199   \n",
       "3        4  Female   22      CA           Student              36   \n",
       "4        5   Other   29      US            Family             250   \n",
       "\n",
       "   songs_played_per_day  skip_rate device_type  ads_listened_per_week  \\\n",
       "0                    23       0.20     Desktop                     31   \n",
       "1                    62       0.34         Web                      0   \n",
       "2                    38       0.04      Mobile                      0   \n",
       "3                     2       0.31      Mobile                      0   \n",
       "4                    57       0.36      Mobile                      0   \n",
       "\n",
       "   offline_listening  is_churned  \n",
       "0                  0           1  \n",
       "1                  1           0  \n",
       "2                  1           1  \n",
       "3                  1           0  \n",
       "4                  1           1  "
      ]
     },
     "execution_count": 58,
     "metadata": {},
     "output_type": "execute_result"
    }
   ],
   "source": [
    "df.head()"
   ]
  },
  {
   "cell_type": "code",
   "execution_count": 61,
   "id": "f2c60a04-e2dd-465b-abe8-35e3da51ea16",
   "metadata": {},
   "outputs": [
    {
     "data": {
      "text/plain": [
       "subscription_type\n",
       "Premium    2115\n",
       "Free       2018\n",
       "Student    1959\n",
       "Family     1908\n",
       "Name: count, dtype: int64"
      ]
     },
     "execution_count": 61,
     "metadata": {},
     "output_type": "execute_result"
    },
    {
     "data": {
      "image/png": "[encoded data removed]",
      "text/plain": [
       "<Figure size 640x480 with 1 Axes>"
      ]
     },
     "metadata": {},
     "output_type": "display_data"
    }
   ],
   "source": [
    "sns.countplot(df,x=\"subscription_type\")\n",
    "df['subscription_type'].value_counts()"
   ]
  },
  {
   "cell_type": "code",
   "execution_count": 64,
   "id": "dec632e6-8947-4c80-b0a9-674d2c039dc4",
   "metadata": {},
   "outputs": [
    {
     "data": {
      "text/plain": [
       "<Axes: ylabel='count'>"
      ]
     },
     "execution_count": 64,
     "metadata": {},
     "output_type": "execute_result"
    },
    {
     "data": {
      "image/png": "[encoded data removed]",
      "text/plain": [
       "<Figure size 640x480 with 1 Axes>"
      ]
     },
     "metadata": {},
     "output_type": "display_data"
    }
   ],
   "source": [
    "# df['device_type'].value_counts().plot(kind='pie', autopct='%.2f')\n",
    "# df['gender'].value_counts().plot(kind='pie', autopct='%.2f')\n",
    "df['country'].value_counts().plot(kind='pie', autopct='%.2f')"
   ]
  },
  {
   "cell_type": "code",
   "execution_count": 82,
   "id": "eb6ccac8-cc88-49b9-b5f0-bcc38c6c6c7d",
   "metadata": {},
   "outputs": [
    {
     "data": {
      "text/plain": [
       "(array([5982.,  204.,  222.,  234.,  198.,  217.,  222.,  245.,  243.,\n",
       "         233.]),\n",
       " array([ 0. ,  4.9,  9.8, 14.7, 19.6, 24.5, 29.4, 34.3, 39.2, 44.1, 49. ]),\n",
       " <BarContainer object of 10 artists>)"
      ]
     },
     "execution_count": 82,
     "metadata": {},
     "output_type": "execute_result"
    },
    {
     "data": {
      "image/png": "[encoded data removed]",
      "text/plain": [
       "<Figure size 640x480 with 1 Axes>"
      ]
     },
     "metadata": {},
     "output_type": "display_data"
    }
   ],
   "source": [
    "plt.hist(df['ads_listened_per_week'])"
   ]
  },
  {
   "cell_type": "code",
   "execution_count": 83,
   "id": "fd34c793-e3a4-4788-83c4-7d7d1a288228",
   "metadata": {},
   "outputs": [
    {
     "name": "stderr",
     "output_type": "stream",
     "text": [
      "C:\\Users\\S.B. Engineering\\AppData\\Local\\Temp\\ipykernel_16188\\3239405444.py:1: UserWarning: \n",
      "\n",
      "`distplot` is a deprecated function and will be removed in seaborn v0.14.0.\n",
      "\n",
      "Please adapt your code to use either `displot` (a figure-level function with\n",
      "similar flexibility) or `histplot` (an axes-level function for histograms).\n",
      "\n",
      "For a guide to updating your code to use the new functions, please see\n",
      "https://gist.github.com/mwaskom/de44147ed2974457ad6372750bbe5751\n",
      "\n",
      "  sns.distplot(df['ads_listened_per_week'])\n"
     ]
    },
    {
     "data": {
      "text/plain": [
       "<Axes: xlabel='ads_listened_per_week', ylabel='Density'>"
      ]
     },
     "execution_count": 83,
     "metadata": {},
     "output_type": "execute_result"
    },
    {
     "data": {
      "image/png": "[encoded data removed]",
      "text/plain": [
       "<Figure size 640x480 with 1 Axes>"
      ]
     },
     "metadata": {},
     "output_type": "display_data"
    }
   ],
   "source": [
    "sns.distplot(df['ads_listened_per_week'])"
   ]
  },
  {
   "cell_type": "markdown",
   "id": "e859a87f-fd24-4537-b556-d10633cb3c28",
   "metadata": {},
   "source": [
    "### The distribution is heavily right-skewed, not symmetric."
   ]
  },
  {
   "cell_type": "code",
   "execution_count": 86,
   "id": "32ccc03a-021f-4db0-8f83-906ffaff8d3c",
   "metadata": {},
   "outputs": [
    {
     "data": {
      "text/plain": [
       "<Axes: ylabel='songs_played_per_day'>"
      ]
     },
     "execution_count": 86,
     "metadata": {},
     "output_type": "execute_result"
    },
    {
     "data": {
      "image/png": "[encoded data removed]",
      "text/plain": [
       "<Figure size 640x480 with 1 Axes>"
      ]
     },
     "metadata": {},
     "output_type": "display_data"
    }
   ],
   "source": [
    "sns.boxplot(df['songs_played_per_day'])"
   ]
  },
  {
   "cell_type": "code",
   "execution_count": null,
   "id": "c3a23a54-f373-4c6b-b985-41860f2dac2b",
   "metadata": {},
   "outputs": [],
   "source": []
  }
 ],
 "metadata": {
  "kernelspec": {
   "display_name": "Python [conda env:base] *",
   "language": "python",
   "name": "conda-base-py"
  },
  "language_info": {
   "codemirror_mode": {
    "name": "ipython",
    "version": 3
   },
   "file_extension": ".py",
   "mimetype": "text/x-python",
   "name": "python",
   "nbconvert_exporter": "python",
   "pygments_lexer": "ipython3",
   "version": "3.13.5"
  }
 },
 "nbformat": 4,
 "nbformat_minor": 5
}
