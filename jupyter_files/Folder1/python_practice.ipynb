{
 "cells": [
  {
   "cell_type": "code",
   "execution_count": 3,
   "id": "57294b76-8bbb-44c8-920a-c64fd7661cb3",
   "metadata": {},
   "outputs": [
    {
     "name": "stdout",
     "output_type": "stream",
     "text": [
      "Hello Raj\n",
      "Hello Jay\n"
     ]
    }
   ],
   "source": [
    "#functions in python\n",
    "\n",
    "def say_hello(name):\n",
    "    \"\"\"\n",
    "    This function says hello to a person and this is a documentation\n",
    "    \"\"\"\n",
    "    print(f'Hello {name}')\n",
    "\n",
    "say_hello('Raj')\n",
    "say_hello('Jay')"
   ]
  },
  {
   "cell_type": "code",
   "execution_count": 6,
   "id": "a7b43711-73f6-471f-8c7b-1462e0956c99",
   "metadata": {},
   "outputs": [
    {
     "name": "stdout",
     "output_type": "stream",
     "text": [
      "The total of 1+2+3 is 6.\n",
      "The total of -10+10+20 is 20.\n"
     ]
    }
   ],
   "source": [
    "def calc(a,b,c):\n",
    "    total=a+b+c\n",
    "    print(f'The total of {a}+{b}+{c} is {total}.')\n",
    "\n",
    "calc(1,2,3)\n",
    "calc(-10,10,20)"
   ]
  },
  {
   "cell_type": "markdown",
   "id": "05d6a643-db52-4695-b13f-2e76e88c3cdb",
   "metadata": {},
   "source": [
    "# 1. Import Dataset"
   ]
  },
  {
   "cell_type": "markdown",
   "id": "23b04d67-6a5d-4e66-9ba4-e5af1a6713e8",
   "metadata": {},
   "source": [
    "over here we begin coding"
   ]
  },
  {
   "cell_type": "code",
   "execution_count": null,
   "id": "099db7f0-9ca3-4d89-aabd-2fb935727ab3",
   "metadata": {},
   "outputs": [],
   "source": []
  }
 ],
 "metadata": {
  "kernelspec": {
   "display_name": "Python [conda env:base] *",
   "language": "python",
   "name": "conda-base-py"
  },
  "language_info": {
   "codemirror_mode": {
    "name": "ipython",
    "version": 3
   },
   "file_extension": ".py",
   "mimetype": "text/x-python",
   "name": "python",
   "nbconvert_exporter": "python",
   "pygments_lexer": "ipython3",
   "version": "3.13.5"
  }
 },
 "nbformat": 4,
 "nbformat_minor": 5
}
